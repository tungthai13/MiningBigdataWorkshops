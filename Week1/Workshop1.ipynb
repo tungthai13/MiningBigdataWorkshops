{
 "cells": [
  {
   "cell_type": "markdown",
   "metadata": {},
   "source": [
    "<h1><center>Introduction to PySpark</center></h1>"
   ]
  },
  {
   "cell_type": "markdown",
   "metadata": {},
   "source": [
    "1. PySpark is the Python library for interacting with the Apache Spark framework.\n",
    "<br /><br />\n",
    "2. PySpark allows you to process large datasets in a distributed computing environment.\n",
    "<br /><br />\n",
    "3. PySpark's primary data structure is the Resilient Distributed Dataset (RDD), which is a collection of elements that can be processed in parallel.\n",
    "<br /><br />\n",
    "4. PySpark also has a Dataframe API which is similar to Pandas Dataframe and provides a higher-level abstraction compared to RDDs.\n",
    "<br /><br />\n",
    "5. PySpark also provides a SQL API for querying data using SQL syntax.\n",
    "<br /><br />\n",
    "6. PySpark can be used in combination with other Python libraries, such as Pandas, NumPy, and Scikit-learn, to perform advanced data analysis tasks.\n",
    "<br /><br />\n",
    "7. PySpark can be run using the PySpark shell or integrated into larger Python applications.\n",
    "<br /><br />\n",
    "8. PySpark also provides machine learning libraries such as MLlib and ML which are built on top of Dataframe and RDD API respectively.\n",
    "<br /><br />\n",
    "9. PySpark's performance is highly dependent on the cluster configuration and resources, and it is important to properly configure and tune the cluster for optimal performance.\n",
    "<br /><br />\n",
    "10. PySpark requires knowledge of both Spark and Python.\n",
    "<br /><br />\n",
    "11. Spark provides support for running on a cluster and PySpark allows you to interface with it using Python.\n",
    "<br /><br />\n",
    "Reference: https://spark.apache.org/docs/"
   ]
  },
  {
   "cell_type": "markdown",
   "metadata": {},
   "source": [
    "<img src=\"./Images/Spark_Stack.png\" width=\"450\" height=\"340\" style=\"display=block; margin:auto\"/>\n",
    "\n",
    "\n",
    "Reference: https://runawayhorse001.github.io/"
   ]
  },
  {
   "cell_type": "markdown",
   "metadata": {},
   "source": [
    "### Installation using Pip\n",
    "\n",
    "pip install pyspark pandas matplotlib\n",
    "\n",
    "### Installation using Conda\n",
    "\n",
    "conda create -n pyspark_env\n",
    "<br /><br />\n",
    "conda activate pyspark_env\n",
    "<br /><br />\n",
    "conda install -c conda-forge pyspark  # can also add \"python=3.8 some_package [etc.]\" here\n",
    "\n",
    "For manually downloading and more reference refer to: https://spark.apache.org/docs/latest/api/python/getting_started/install.html\n",
    "\n"
   ]
  },
  {
   "cell_type": "markdown",
   "metadata": {},
   "source": [
    "<h1><center>Loading Dataframe using PySpark</center></h1>"
   ]
  },
  {
   "cell_type": "code",
   "execution_count": 1,
   "metadata": {},
   "outputs": [
    {
     "name": "stdout",
     "output_type": "stream",
     "text": [
      "23/01/22 15:46:10 WARN Utils: Your hostname, arpit-Z590-UD-AC resolves to a loopback address: 127.0.1.1; using 10.90.184.108 instead (on interface enp8s0)\n",
      "23/01/22 15:46:10 WARN Utils: Set SPARK_LOCAL_IP if you need to bind to another address\n"
     ]
    },
    {
     "name": "stderr",
     "output_type": "stream",
     "text": [
      "Setting default log level to \"WARN\".\n",
      "To adjust logging level use sc.setLogLevel(newLevel). For SparkR, use setLogLevel(newLevel).\n"
     ]
    },
    {
     "name": "stdout",
     "output_type": "stream",
     "text": [
      "23/01/22 15:46:10 WARN NativeCodeLoader: Unable to load native-hadoop library for your platform... using builtin-java classes where applicable\n",
      "23/01/22 15:46:10 WARN Utils: Service 'SparkUI' could not bind on port 4040. Attempting port 4041.\n"
     ]
    }
   ],
   "source": [
    "from pyspark.sql import SparkSession\n",
    "\n",
    "# Create a SparkSession\n",
    "spark = SparkSession.builder.appName(\"DataFrames\").getOrCreate()\n",
    "\n",
    "# Create a DataFrame from a CSV file\n",
    "df = spark.read.csv(\"./dataset/House_area_price.csv\", inferSchema=True, header=True)"
   ]
  },
  {
   "cell_type": "markdown",
   "metadata": {},
   "source": [
    "In this example, we first import the necessary modules from the PySpark library. <br /><br />\n",
    "We then create a SparkSession object, which is the entry point to using Spark functionality. <br /><br />\n",
    "Next, we use the read method of the SparkSession object to read a CSV file and create a DataFrame.<br /><br />\n",
    "\n",
    "inferSchema=True <br /><br />is used to automatically infer the data types of the columns in the DataFrame, based on the data in the CSV file.<br /><br />\n",
    "header=True <br /><br />is used to indicate that the first row of the CSV file contains the column names.<br /><br />\n",
    "\n",
    "Once the DataFrame is created, we can perform various operations on it such as filter, groupBy, select, etc.\n",
    "\n",
    "In the below  example, show(5) is used to show first 5 rows of dataframe, printSchema() is used to print the schema of dataframe<br />\n",
    "select and filter are used to select specific columns and filter rows based on conditions respectively."
   ]
  },
  {
   "cell_type": "code",
   "execution_count": 2,
   "metadata": {},
   "outputs": [
    {
     "name": "stdout",
     "output_type": "stream",
     "text": [
      "+-------+----+\n",
      "|  price|area|\n",
      "+-------+----+\n",
      "|3150000|1650|\n",
      "|1890000|1700|\n",
      "|2275000|1836|\n",
      "|4340000|1905|\n",
      "|2240000|1950|\n",
      "+-------+----+\n",
      "only showing top 5 rows\n",
      "\n",
      "root\n",
      " |-- price: integer (nullable = true)\n",
      " |-- area: integer (nullable = true)\n",
      "\n",
      "+-------+----+\n",
      "|  price|area|\n",
      "+-------+----+\n",
      "|3150000|1650|\n",
      "|1890000|1700|\n",
      "|2275000|1836|\n",
      "|4340000|1905|\n",
      "|2240000|1950|\n",
      "+-------+----+\n",
      "only showing top 5 rows\n",
      "\n",
      "+-------+----+\n",
      "|  price|area|\n",
      "+-------+----+\n",
      "|4340000|1905|\n",
      "|3430000|1950|\n",
      "|3850000|2015|\n",
      "|3500000|2135|\n",
      "|4200000|2145|\n",
      "+-------+----+\n",
      "only showing top 5 rows\n",
      "\n"
     ]
    }
   ],
   "source": [
    "#print the first 5 rows of dataframe\n",
    "df.show(5)\n",
    "\n",
    "#print the schema of the dataframe\n",
    "df.printSchema()\n",
    "\n",
    "#select only specific columns\n",
    "df.select(\"price\",\"area\").show(5)\n",
    "\n",
    "#filter rows based on a condition\n",
    "value = 3150000\n",
    "df.filter(df[\"price\"] > value).show(5)"
   ]
  },
  {
   "cell_type": "markdown",
   "metadata": {},
   "source": [
    "<h1><center>Creating Dataframe using PySpark</center></h1>\n",
    "\n",
    "\n",
    "### 1. From a list of rows with explicit schema:"
   ]
  },
  {
   "cell_type": "code",
   "execution_count": 3,
   "metadata": {},
   "outputs": [
    {
     "name": "stdout",
     "output_type": "stream",
     "text": [
      "23/01/22 15:46:13 WARN SparkSession: Using an existing Spark session; only runtime SQL configurations will take effect.\n",
      "+-------+---+\n",
      "|   name|age|\n",
      "+-------+---+\n",
      "|  Alice| 25|\n",
      "|    Bob| 30|\n",
      "|Charlie| 35|\n",
      "+-------+---+\n",
      "\n"
     ]
    }
   ],
   "source": [
    "from pyspark.sql import SparkSession, Row\n",
    "from pyspark.sql.types import StructType, StructField, StringType, IntegerType\n",
    "\n",
    "# Create a SparkSession\n",
    "spark = SparkSession.builder.appName(\"DataFrame Example\").getOrCreate()\n",
    "\n",
    "# Define the schema for the DataFrame\n",
    "schema = StructType([\n",
    "    StructField(\"name\", StringType()),\n",
    "    StructField(\"age\", IntegerType())\n",
    "])\n",
    "\n",
    "# Create a list of rows\n",
    "rows = [Row(name=\"Alice\", age=25), Row(name=\"Bob\", age=30), Row(name=\"Charlie\", age=35)]\n",
    "\n",
    "# Create a DataFrame from the list of rows and the schema\n",
    "df = spark.createDataFrame(rows, schema)\n",
    "\n",
    "# Print the DataFrame\n",
    "df.show()\n"
   ]
  },
  {
   "cell_type": "markdown",
   "metadata": {},
   "source": [
    "### 2. From a pandas DataFrame with explicit schema"
   ]
  },
  {
   "cell_type": "code",
   "execution_count": 4,
   "metadata": {},
   "outputs": [
    {
     "name": "stdout",
     "output_type": "stream",
     "text": [
      "+-------+---+\n",
      "|   name|age|\n",
      "+-------+---+\n",
      "|  Alice| 25|\n",
      "|    Bob| 30|\n",
      "|Charlie| 35|\n",
      "+-------+---+\n",
      "\n"
     ]
    }
   ],
   "source": [
    "import pandas as pd\n",
    "from pyspark.sql import SparkSession\n",
    "\n",
    "# Create a SparkSession\n",
    "spark = SparkSession.builder.appName(\"DataFrame Example\").getOrCreate()\n",
    "\n",
    "# Create a pandas DataFrame\n",
    "pdf = pd.DataFrame({\"name\": [\"Alice\", \"Bob\", \"Charlie\"], \"age\": [25, 30, 35]})\n",
    "\n",
    "# Define the schema for the DataFrame\n",
    "schema = StructType([\n",
    "    StructField(\"name\", StringType()),\n",
    "    StructField(\"age\", IntegerType())\n",
    "])\n",
    "\n",
    "# Create a DataFrame from the pandas DataFrame and the schema\n",
    "df = spark.createDataFrame(pdf,schema)\n",
    "\n",
    "# Print the DataFrame\n",
    "df.show()"
   ]
  },
  {
   "cell_type": "markdown",
   "metadata": {},
   "source": [
    "### 3. From RDD consists of list of tuples with explicit schema:"
   ]
  },
  {
   "cell_type": "code",
   "execution_count": 5,
   "metadata": {},
   "outputs": [
    {
     "name": "stdout",
     "output_type": "stream",
     "text": [
      "+-------+---+\n",
      "|   name|age|\n",
      "+-------+---+\n",
      "|  Alice| 25|\n",
      "|    Bob| 30|\n",
      "|Charlie| 35|\n",
      "+-------+---+\n",
      "\n"
     ]
    }
   ],
   "source": [
    "from pyspark.sql import SparkSession\n",
    "from pyspark.sql.types import StructType, StructField, StringType, IntegerType\n",
    "\n",
    "# Create a SparkSession\n",
    "spark = SparkSession.builder.appName(\"DataFrame Example\").getOrCreate()\n",
    "\n",
    "# Create an RDD of tuples\n",
    "rdd = spark.sparkContext.parallelize([(\"Alice\", 25), (\"Bob\", 30), (\"Charlie\", 35)])\n",
    "\n",
    "# Define the schema for the DataFrame\n",
    "schema = StructType([\n",
    "    StructField(\"name\", StringType()),\n",
    "    StructField(\"age\", IntegerType())\n",
    "])\n",
    "\n",
    "# Create a DataFrame from the RDD and the schema\n",
    "df = spark.createDataFrame(rdd, schema)\n",
    "\n",
    "# Print the DataFrame\n",
    "df.show()\n"
   ]
  },
  {
   "cell_type": "markdown",
   "metadata": {},
   "source": [
    "<h1><center>Viewing Data</center></h1>"
   ]
  },
  {
   "cell_type": "code",
   "execution_count": 6,
   "metadata": {},
   "outputs": [
    {
     "name": "stdout",
     "output_type": "stream",
     "text": [
      "+-----+---+\n",
      "| name|age|\n",
      "+-----+---+\n",
      "|Alice| 25|\n",
      "|  Bob| 30|\n",
      "+-----+---+\n",
      "only showing top 2 rows\n",
      "\n"
     ]
    }
   ],
   "source": [
    "# 1. Showing the first n rows of the DataFrame:\n",
    "n = int(input('Enter the number of rows to display:'))\n",
    "df.show(n)"
   ]
  },
  {
   "cell_type": "code",
   "execution_count": 7,
   "metadata": {},
   "outputs": [
    {
     "name": "stdout",
     "output_type": "stream",
     "text": [
      "+-------+---+\n",
      "|   name|age|\n",
      "+-------+---+\n",
      "|  Alice| 25|\n",
      "|    Bob| 30|\n",
      "|Charlie| 35|\n",
      "+-------+---+\n",
      "\n"
     ]
    }
   ],
   "source": [
    "# 2.1 Show the entire dataframe\n",
    "df.show()"
   ]
  },
  {
   "cell_type": "code",
   "execution_count": 8,
   "metadata": {},
   "outputs": [
    {
     "name": "stdout",
     "output_type": "stream",
     "text": [
      "+-----+---+\n",
      "| name|age|\n",
      "+-----+---+\n",
      "|Alice| 25|\n",
      "|  Bob| 30|\n",
      "+-----+---+\n",
      "only showing top 2 rows\n",
      "\n"
     ]
    }
   ],
   "source": [
    "# 2.2 Show the first 2 rows\n",
    "df.show(2)"
   ]
  },
  {
   "cell_type": "code",
   "execution_count": 9,
   "metadata": {},
   "outputs": [
    {
     "name": "stdout",
     "output_type": "stream",
     "text": [
      "root\n",
      " |-- name: string (nullable = true)\n",
      " |-- age: integer (nullable = true)\n",
      "\n"
     ]
    }
   ],
   "source": [
    "# 3. Print the schema of the DataFrame:\n",
    "df.printSchema()"
   ]
  },
  {
   "cell_type": "code",
   "execution_count": 10,
   "metadata": {},
   "outputs": [
    {
     "data": {
      "text/plain": [
       "3"
      ]
     },
     "execution_count": 10,
     "metadata": {},
     "output_type": "execute_result"
    }
   ],
   "source": [
    "# 4. Count the number of rows in the DataFrame:\n",
    "df.count()"
   ]
  },
  {
   "cell_type": "code",
   "execution_count": 11,
   "metadata": {},
   "outputs": [
    {
     "name": "stdout",
     "output_type": "stream",
     "text": [
      "+-------+-------+----+\n",
      "|summary|   name| age|\n",
      "+-------+-------+----+\n",
      "|  count|      3|   3|\n",
      "|   mean|   null|30.0|\n",
      "| stddev|   null| 5.0|\n",
      "|    min|  Alice|  25|\n",
      "|    max|Charlie|  35|\n",
      "+-------+-------+----+\n",
      "\n"
     ]
    }
   ],
   "source": [
    "# 5. Describe the DataFrame\n",
    "df.describe().show()"
   ]
  },
  {
   "cell_type": "code",
   "execution_count": 12,
   "metadata": {},
   "outputs": [
    {
     "name": "stdout",
     "output_type": "stream",
     "text": [
      "+-------+---+\n",
      "|   name|age|\n",
      "+-------+---+\n",
      "|  Alice| 25|\n",
      "|    Bob| 30|\n",
      "|Charlie| 35|\n",
      "+-------+---+\n",
      "\n"
     ]
    }
   ],
   "source": [
    "# 6. Select specific columns from the DataFrame:\n",
    "df.select(\"name\", \"age\").show()"
   ]
  },
  {
   "cell_type": "code",
   "execution_count": 13,
   "metadata": {},
   "outputs": [
    {
     "name": "stdout",
     "output_type": "stream",
     "text": [
      "+-------+---+\n",
      "|   name|age|\n",
      "+-------+---+\n",
      "|Charlie| 35|\n",
      "+-------+---+\n",
      "\n"
     ]
    }
   ],
   "source": [
    "# 7. Filter the DataFrame based on a condition:\n",
    "value = 30\n",
    "df.filter(df[\"age\"] > value).show()"
   ]
  },
  {
   "cell_type": "markdown",
   "metadata": {},
   "source": [
    "<h1><center>Selecting and Accessing Data</center></h1>"
   ]
  },
  {
   "cell_type": "code",
   "execution_count": 14,
   "metadata": {},
   "outputs": [
    {
     "data": {
      "text/plain": [
       "DataFrame[name: string, age: int]"
      ]
     },
     "execution_count": 14,
     "metadata": {},
     "output_type": "execute_result"
    }
   ],
   "source": [
    "# 1. Selecting specific columns from the DataFrame:\n",
    "df.select(\"name\", \"age\")"
   ]
  },
  {
   "cell_type": "code",
   "execution_count": 15,
   "metadata": {},
   "outputs": [
    {
     "data": {
      "text/plain": [
       "DataFrame[age_: int, name_: string]"
      ]
     },
     "execution_count": 15,
     "metadata": {},
     "output_type": "execute_result"
    }
   ],
   "source": [
    "# 2. Selecting columns and renaming them\n",
    "df.selectExpr(\"age as age_\", \"name as name_\")"
   ]
  },
  {
   "cell_type": "code",
   "execution_count": 16,
   "metadata": {},
   "outputs": [
    {
     "data": {
      "text/plain": [
       "DataFrame[name: string, age: int, avg(age): double]"
      ]
     },
     "execution_count": 16,
     "metadata": {},
     "output_type": "execute_result"
    }
   ],
   "source": [
    "# 3. Grouping the DataFrame by one or more columns: \n",
    "df.groupBy(\"name\", \"age\").mean()\n",
    "# This will group the DataFrame by the name and age columns and return the mean value for each group."
   ]
  },
  {
   "cell_type": "code",
   "execution_count": 17,
   "metadata": {},
   "outputs": [
    {
     "data": {
      "text/plain": [
       "DataFrame[name: string, age: int]"
      ]
     },
     "execution_count": 17,
     "metadata": {},
     "output_type": "execute_result"
    }
   ],
   "source": [
    "# 4. Sorting the DataFrame by one or more columns:\n",
    "df.sort(df[\"age\"].desc(),df[\"age\"].asc())"
   ]
  },
  {
   "cell_type": "code",
   "execution_count": 18,
   "metadata": {},
   "outputs": [
    {
     "data": {
      "text/plain": [
       "[Row(name='Alice', age=25),\n",
       " Row(name='Bob', age=30),\n",
       " Row(name='Charlie', age=35)]"
      ]
     },
     "execution_count": 18,
     "metadata": {},
     "output_type": "execute_result"
    }
   ],
   "source": [
    "# 5. Accessing individual elements in the DataFrame\n",
    "df.collect()"
   ]
  },
  {
   "cell_type": "code",
   "execution_count": 19,
   "metadata": {},
   "outputs": [
    {
     "data": {
      "text/plain": [
       "[Row(name='Alice', age=25),\n",
       " Row(name='Bob', age=30),\n",
       " Row(name='Charlie', age=35)]"
      ]
     },
     "execution_count": 19,
     "metadata": {},
     "output_type": "execute_result"
    }
   ],
   "source": [
    "# 6. Accessing individual elements in the DataFrame\n",
    "df.collect()"
   ]
  },
  {
   "cell_type": "code",
   "execution_count": 20,
   "metadata": {},
   "outputs": [
    {
     "name": "stdout",
     "output_type": "stream",
     "text": [
      "25\n"
     ]
    }
   ],
   "source": [
    "# 7. Accessing individual column of a row:\n",
    "row = df.first()\n",
    "print(row.age)"
   ]
  },
  {
   "cell_type": "code",
   "execution_count": 21,
   "metadata": {},
   "outputs": [
    {
     "data": {
      "text/plain": [
       "[Row(name='Alice', age=25)]"
      ]
     },
     "execution_count": 21,
     "metadata": {},
     "output_type": "execute_result"
    }
   ],
   "source": [
    "# 8. Accessing elements in the DataFrame using indexing\n",
    "n = 1\n",
    "df.take(n)"
   ]
  },
  {
   "cell_type": "markdown",
   "metadata": {},
   "source": [
    "#### CSV is straightforward and easy to use. Parquet and ORC are efficient and compact file formats to read and write faster.\n",
    "\n",
    "#### There are many other data sources available in PySpark such as JDBC, text, binaryFile, Avro, etc. "
   ]
  },
  {
   "cell_type": "markdown",
   "metadata": {},
   "source": [
    "<br /><br />\n",
    "<h1><center>User Defined Functions (UDF)</center></h1>\n",
    "\n",
    "\n",
    "\n",
    "Useful links:\n",
    "\n",
    "Pandas with Spark: https://spark.apache.org/docs/latest/api/python/getting_started/quickstart_ps.html"
   ]
  },
  {
   "cell_type": "markdown",
   "metadata": {},
   "source": [
    "PySpark provides a pandas_udf module to define and run Pandas UDFs (user-defined functions) in PySpark. The pandas_udf module allows you to define UDFs that take and return Pandas DataFrames, instead of the regular PySpark DataFrames. This can be useful when working with large datasets and you want to use the power of Pandas for data manipulation.\n",
    "\n",
    "\n",
    "UDFs, or User Defined Functions, allow for the expansion of the capabilities of a framework by allowing for the reuse of functions on multiple DataFrames. For instance, if you want to capitalize the first letter of each word in a name string, and the PySpark framework does not have a built-in function for this, you can create a UDF to do this and use it on multiple DataFrames as needed. Once created, UDFs can be applied to multiple DataFrames and SQL expressions."
   ]
  },
  {
   "cell_type": "code",
   "execution_count": 22,
   "metadata": {},
   "outputs": [
    {
     "name": "stdout",
     "output_type": "stream",
     "text": [
      "+----------+----------------+\n",
      "|      name|capitalized_name|\n",
      "+----------+----------------+\n",
      "|  john doe|        John Doe|\n",
      "|jane smith|      Jane Smith|\n",
      "+----------+----------------+\n",
      "\n"
     ]
    }
   ],
   "source": [
    "# UDFs using SQL PySpark\n",
    "from pyspark.sql.functions import udf\n",
    "from pyspark.sql.types import StringType\n",
    "\n",
    "# Define the UDF\n",
    "capitalize_udf = udf(lambda s: \" \".join([w.capitalize() for w in s.split(\" \")]), StringType())\n",
    "\n",
    "# Create a DataFrame\n",
    "df = spark.createDataFrame([(\"john doe\",), (\"jane smith\",)], [\"name\"])\n",
    "\n",
    "# Apply the UDF to the DataFrame\n",
    "df = df.withColumn(\"capitalized_name\", capitalize_udf(df[\"name\"]))\n",
    "\n",
    "df.show()\n"
   ]
  },
  {
   "cell_type": "code",
   "execution_count": 23,
   "metadata": {},
   "outputs": [
    {
     "name": "stdout",
     "output_type": "stream",
     "text": [
      "+----------+----------------+\n",
      "|      name|capitalized_name|\n",
      "+----------+----------------+\n",
      "|  john doe|        John Doe|\n",
      "|jane smith|      Jane Smith|\n",
      "+----------+----------------+\n",
      "\n"
     ]
    }
   ],
   "source": [
    "# UDFs using Pandas API in PySpark\n",
    "from pyspark.sql.functions import pandas_udf\n",
    "from pyspark.sql.types import StringType\n",
    "\n",
    "# Define the UDF\n",
    "@pandas_udf(StringType())\n",
    "def capitalize_udf(s):\n",
    "    return s.apply(lambda x: \" \".join([w.capitalize() for w in x.split(\" \")]))\n",
    "\n",
    "# Create a DataFrame\n",
    "df = spark.createDataFrame([(\"john doe\",), (\"jane smith\",)], [\"name\"])\n",
    "\n",
    "# Apply the UDF to the DataFrame\n",
    "df = df.withColumn(\"capitalized_name\", capitalize_udf(df[\"name\"]))\n",
    "\n",
    "df.show()\n"
   ]
  },
  {
   "cell_type": "markdown",
   "metadata": {},
   "source": [
    "The above example uses the @pandas_udf decorator to define the UDF, which takes the return type of the UDF as its argument. The UDF capitalize_udf takes a pandas.Series and applies the lambda function that capitalizes the first letter of each word in the string. The UDF is then applied to the DataFrame using the withColumn method and the result is stored in a new column \"capitalized_name\".\n",
    "\n",
    "It is important to note that Pandas UDFs are only available in the pyspark.sql.functions module of PySpark version 2.4 or later, and also need to be executed on the same version of pandas as the version of pyspark being used."
   ]
  },
  {
   "cell_type": "markdown",
   "metadata": {},
   "source": [
    "<br /><br /><br /><br /><br />\n",
    "<h1><center>Linear Regression Example</center></h1>"
   ]
  },
  {
   "cell_type": "markdown",
   "metadata": {},
   "source": [
    "## 1. Session Creation\n",
    "\n",
    "In this step, we will create a spark session that will be used for all the subsequent steps."
   ]
  },
  {
   "cell_type": "code",
   "execution_count": 24,
   "metadata": {},
   "outputs": [
    {
     "name": "stdout",
     "output_type": "stream",
     "text": [
      "23/01/22 15:46:22 WARN SparkSession: Using an existing Spark session; only runtime SQL configurations will take effect.\n"
     ]
    }
   ],
   "source": [
    "from pyspark.sql import SparkSession\n",
    "spark = SparkSession.builder.appName(\"LinearRegression\").getOrCreate()"
   ]
  },
  {
   "cell_type": "markdown",
   "metadata": {},
   "source": [
    "## 2. Data Wrangling"
   ]
  },
  {
   "cell_type": "markdown",
   "metadata": {},
   "source": [
    "PySpark Data Wrangling: the key concepts and techniques for working with data in PySpark, including data cleaning, transformation, and feature engineering.\n",
    "\n",
    "1. Data cleaning can be done using PySpark DataFrame API, for example, to remove missing values, we can use the dropna() function, or to fill missing values, the fillna() function.\n",
    "2.  Data transformation can be done using PySpark DataFrame API, for example, to normalize the data, we can use the StandardScaler() function from the ml.feature module.\n",
    "3. Feature engineering is the process of creating new features from the existing ones, it can be done using PySpark DataFrame API.\n",
    "\n",
    "In this step, we are loading the data, dropping the missing values, creating a vector assembler to convert the input columns into a single vector column, and splitting the data into training and test sets."
   ]
  },
  {
   "cell_type": "code",
   "execution_count": 25,
   "metadata": {},
   "outputs": [],
   "source": [
    "# load the data\n",
    "data = spark.read.csv('./dataset/House_area_price.csv', header=True, inferSchema=True)\n",
    "\n",
    "# drop missing values\n",
    "data = data.dropna()\n",
    "\n",
    "# create a vector assembler to convert the input columns into a single vector column\n",
    "from pyspark.ml.feature import VectorAssembler\n",
    "\n",
    "assembler = VectorAssembler(inputCols=['area'], outputCol='features')\n",
    "data = assembler.transform(data)\n",
    "\n",
    "# split the data into training and test sets\n",
    "train_data, test_data = data.randomSplit([0.8, 0.2])\n",
    "\n",
    "\n",
    "## Uncomment this line\n",
    "#train_data.select(\"col3\").show()"
   ]
  },
  {
   "cell_type": "markdown",
   "metadata": {},
   "source": [
    "## 3. Model Training and Evaluation\n",
    "\n",
    "In this step, we are creating the linear regression model, fitting it to the training data, making predictions on the test data, and evaluating the model's performance."
   ]
  },
  {
   "cell_type": "code",
   "execution_count": 26,
   "metadata": {},
   "outputs": [
    {
     "name": "stdout",
     "output_type": "stream",
     "text": [
      "23/01/22 15:46:23 WARN Instrumentation: [939b9218] regParam is zero, which might cause numerical instability and overfitting.\n",
      "23/01/22 15:46:23 WARN InstanceBuilder$NativeBLAS: Failed to load implementation from:dev.ludovic.netlib.blas.JNIBLAS\n",
      "23/01/22 15:46:23 WARN InstanceBuilder$NativeBLAS: Failed to load implementation from:dev.ludovic.netlib.blas.ForeignLinkerBLAS\n",
      "23/01/22 15:46:23 WARN InstanceBuilder$NativeLAPACK: Failed to load implementation from:dev.ludovic.netlib.lapack.JNILAPACK\n",
      "Root Mean Squared Error: 1622056.587837772\n"
     ]
    }
   ],
   "source": [
    "# create the linear regression model\n",
    "from pyspark.ml.regression import LinearRegression\n",
    "lr = LinearRegression(featuresCol='features', labelCol='price')\n",
    "\n",
    "# fit the model to the training data\n",
    "model = lr.fit(train_data)\n",
    "\n",
    "# make predictions on the test data\n",
    "predictions = model.transform(test_data)\n",
    "\n",
    "# evaluate the model's performance\n",
    "from pyspark.ml.evaluation import RegressionEvaluator\n",
    "evaluator = RegressionEvaluator(labelCol='price', predictionCol='prediction', metricName='rmse')\n",
    "rmse = evaluator.evaluate(predictions)\n",
    "print('Root Mean Squared Error:', rmse)"
   ]
  },
  {
   "cell_type": "markdown",
   "metadata": {},
   "source": [
    "## 4. Visualisation\n",
    "\n",
    "In this step, we are converting the predictions to a pandas dataframe, and plotting the predictions versus the actual values."
   ]
  },
  {
   "cell_type": "code",
   "execution_count": 27,
   "metadata": {},
   "outputs": [
    {
     "data": {
      "image/png": "[encoded data removed]",
      "text/plain": [
       "<Figure size 640x480 with 1 Axes>"
      ]
     },
     "metadata": {},
     "output_type": "display_data"
    }
   ],
   "source": [
    "import matplotlib.pyplot as plt\n",
    "import pandas as pd\n",
    "\n",
    "# convert the predictions to a pandas dataframe\n",
    "predictions_pd = predictions.toPandas()\n",
    "\n",
    "# plot the predictions versus the actual values\n",
    "plt.scatter(predictions_pd['price'], predictions_pd['prediction'])\n",
    "plt.xlabel('Actual Values')\n",
    "plt.ylabel('Predictions')\n",
    "plt.show()\n"
   ]
  },
  {
   "cell_type": "markdown",
   "metadata": {},
   "source": [
    "<br /><br /><br /><br /><br />\n",
    "<h1><center>Workshop Task (Classification)</center></h1>\n"
   ]
  },
  {
   "cell_type": "markdown",
   "metadata": {},
   "source": [
    "Perform classification on Iris Dataset which is available for download from the UCI Machine Learning Repository. \n",
    "It should include:\n",
    "1. Load the data into a PySpark DataFrame (https://archive.ics.uci.edu/ml/machine-learning-databases/iris/iris.data)\n",
    "2. Prepare the data for classification. This typically involves selecting the features and labels, and possibly scaling or transforming the data. \n",
    "3. Split the data into training (70%) and test set (30%)\n",
    "4. Train a classification model using the training data using Random Forest classifier (https://spark.apache.org/docs/3.1.3/api/python/reference/api/pyspark.ml.classification.RandomForestClassifier.html)\n",
    "5. Predict the labels of the test data\n",
    "6. Evaluate the model performance using any of the classification metrics like accuracy, f1 score, precision, recall etc. (https://spark.apache.org/docs/3.1.3/api/python/reference/api/pyspark.ml.evaluation.MulticlassClassificationEvaluator.html?highlight=multiclassclassificationevaluator#pyspark.ml.evaluation.MulticlassClassificationEvaluator)\n"
   ]
  }
 ],
 "metadata": {
  "kernelspec": {
   "display_name": "Python 3 (ipykernel)",
   "language": "python",
   "name": "python3"
  },
  "language_info": {
   "codemirror_mode": {
    "name": "ipython",
    "version": 3
   },
   "file_extension": ".py",
   "mimetype": "text/x-python",
   "name": "python",
   "nbconvert_exporter": "python",
   "pygments_lexer": "ipython3",
   "version": "3.9.12"
  },
  "vscode": {
   "interpreter": {
    "hash": "957e73fbdacff42aadf8c40baf5b66edb7e1c8efd15eaad2479fa1452a07e511"
   }
  }
 },
 "nbformat": 4,
 "nbformat_minor": 2
}
